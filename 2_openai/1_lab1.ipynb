{
 "cells": [
  {
   "cell_type": "code",
   "metadata": {
    "ExecuteTime": {
     "end_time": "2025-08-31T20:52:27.983531Z",
     "start_time": "2025-08-31T20:52:27.040741Z"
    }
   },
   "source": [
    "from dotenv import load_dotenv\n",
    "from agents import Agent, Runner, trace"
   ],
   "outputs": [],
   "execution_count": 1
  },
  {
   "cell_type": "code",
   "metadata": {
    "ExecuteTime": {
     "end_time": "2025-08-31T20:52:46.051144Z",
     "start_time": "2025-08-31T20:52:46.027949Z"
    }
   },
   "source": [
    "# The usual starting point\n",
    "load_dotenv(override=True)"
   ],
   "outputs": [
    {
     "data": {
      "text/plain": [
       "True"
      ]
     },
     "execution_count": 2,
     "metadata": {},
     "output_type": "execute_result"
    }
   ],
   "execution_count": 2
  },
  {
   "cell_type": "code",
   "metadata": {
    "ExecuteTime": {
     "end_time": "2025-08-31T20:56:38.496885Z",
     "start_time": "2025-08-31T20:56:38.480526Z"
    }
   },
   "source": [
    "# Make an agent with name, instructions, model\n",
    "agent = Agent(name=\"Jokester\", instructions=\"You are a joke teller\", model=\"gpt-4o-mini\")"
   ],
   "outputs": [],
   "execution_count": 4
  },
  {
   "metadata": {
    "ExecuteTime": {
     "end_time": "2025-08-31T20:56:42.114443Z",
     "start_time": "2025-08-31T20:56:39.917789Z"
    }
   },
   "cell_type": "code",
   "source": [
    "result = await Runner.run(agent, \"Tell a joke about Autonomous AI Agents\")\n",
    "print(result.final_output)"
   ],
   "outputs": [
    {
     "name": "stdout",
     "output_type": "stream",
     "text": [
      "Why did the autonomous AI agent break up with its human partner?\n",
      "\n",
      "Because it found them too \"predictable\"!\n"
     ]
    }
   ],
   "execution_count": 5
  },
  {
   "cell_type": "code",
   "metadata": {
    "ExecuteTime": {
     "end_time": "2025-08-31T20:57:50.887236Z",
     "start_time": "2025-08-31T20:57:47.902941Z"
    }
   },
   "source": [
    "# Run the joke with Runner.run(agent, prompt) then print final_output\n",
    "\n",
    "with trace(\"Telling a joke\"):\n",
    "    result = await Runner.run(agent, \"Tell a joke about Autonomous AI Agents\")\n",
    "    print(result.final_output)"
   ],
   "outputs": [
    {
     "name": "stdout",
     "output_type": "stream",
     "text": [
      "Why did the Autonomous AI Agent break up with its partner?\n",
      "\n",
      "Because it needed more \"space\" to process its feelings!\n"
     ]
    }
   ],
   "execution_count": 6
  },
  {
   "cell_type": "markdown",
   "metadata": {},
   "source": [
    "## Now go and look at the trace\n",
    "\n",
    "https://platform.openai.com/traces"
   ]
  }
 ],
 "metadata": {
  "kernelspec": {
   "display_name": ".venv",
   "language": "python",
   "name": "python3"
  },
  "language_info": {
   "codemirror_mode": {
    "name": "ipython",
    "version": 3
   },
   "file_extension": ".py",
   "mimetype": "text/x-python",
   "name": "python",
   "nbconvert_exporter": "python",
   "pygments_lexer": "ipython3",
   "version": "3.12.9"
  }
 },
 "nbformat": 4,
 "nbformat_minor": 2
}
