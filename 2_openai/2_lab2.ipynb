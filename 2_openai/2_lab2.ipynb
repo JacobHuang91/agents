{
 "cells": [
  {
   "cell_type": "markdown",
   "metadata": {},
   "source": [
    "## Before we start - some setup:\n",
    "\n",
    "\n",
    "Please visit Sendgrid at: https://sendgrid.com/\n",
    "\n",
    "(Sendgrid is a Twilio company for sending emails.)\n",
    "\n",
    "If SendGrid gives you problems, see the alternative implementation using \"Resend Email\" in community_contributions/2_lab2_with_resend_email\n",
    "\n",
    "Please set up an account - it's free! (at least, for me, right now).\n",
    "\n",
    "Once you've created an account, click on:\n",
    "\n",
    "Settings (left sidebar) >> API Keys >> Create API Key (button on top right)\n",
    "\n",
    "Copy the key to the clipboard, then add a new line to your .env file:\n",
    "\n",
    "`SENDGRID_API_KEY=xxxx`\n",
    "\n",
    "And also, within SendGrid, go to:\n",
    "\n",
    "Settings (left sidebar) >> Sender Authentication >> \"Verify a Single Sender\"  \n",
    "and verify that your own email address is a real email address, so that SendGrid can send emails for you.\n"
   ]
  },
  {
   "cell_type": "code",
   "metadata": {
    "ExecuteTime": {
     "end_time": "2025-08-31T23:31:23.274930Z",
     "start_time": "2025-08-31T23:31:22.739290Z"
    }
   },
   "source": [
    "from dotenv import load_dotenv\n",
    "from agents import Agent, Runner, trace, function_tool\n",
    "from openai.types.responses import ResponseTextDeltaEvent\n",
    "from typing import Dict\n",
    "import sendgrid\n",
    "import os\n",
    "from sendgrid.helpers.mail import Mail, Email, To, Content\n",
    "import asyncio"
   ],
   "outputs": [],
   "execution_count": 1
  },
  {
   "cell_type": "code",
   "metadata": {
    "ExecuteTime": {
     "end_time": "2025-08-31T23:31:26.569776Z",
     "start_time": "2025-08-31T23:31:26.564694Z"
    }
   },
   "source": [
    "load_dotenv(override=True)"
   ],
   "outputs": [
    {
     "data": {
      "text/plain": [
       "True"
      ]
     },
     "execution_count": 2,
     "metadata": {},
     "output_type": "execute_result"
    }
   ],
   "execution_count": 2
  },
  {
   "cell_type": "code",
   "metadata": {
    "ExecuteTime": {
     "end_time": "2025-08-31T23:42:28.417295Z",
     "start_time": "2025-08-31T23:42:28.108126Z"
    }
   },
   "source": [
    "# Let's just check emails are working for you\n",
    "def send_test_email():\n",
    "    sg = sendgrid.SendGridAPIClient(api_key=os.environ.get('SENDGRID_API_KEY'))\n",
    "    from_email = Email(\"jacobhuang91@gmail.com\")  # Change to your verified sender\n",
    "    to_email = To(\"jacobhuang91@gmail.com\")  # Change to your recipient\n",
    "    content = Content(\"text/plain\", \"This is an important test email\")\n",
    "    mail = Mail(from_email, to_email, \"Test email\", content).get()\n",
    "    response = sg.client.mail.send.post(request_body=mail)\n",
    "    print(response.status_code)\n",
    "\n",
    "send_test_email()"
   ],
   "outputs": [
    {
     "ename": "UnauthorizedError",
     "evalue": "HTTP Error 401: Unauthorized",
     "output_type": "error",
     "traceback": [
      "\u001B[31m---------------------------------------------------------------------------\u001B[39m",
      "\u001B[31mUnauthorizedError\u001B[39m                         Traceback (most recent call last)",
      "\u001B[36mCell\u001B[39m\u001B[36m \u001B[39m\u001B[32mIn[4]\u001B[39m\u001B[32m, line 11\u001B[39m\n\u001B[32m      8\u001B[39m     response = sg.client.mail.send.post(request_body=mail)\n\u001B[32m      9\u001B[39m     \u001B[38;5;28mprint\u001B[39m(response.status_code)\n\u001B[32m---> \u001B[39m\u001B[32m11\u001B[39m \u001B[43msend_test_email\u001B[49m\u001B[43m(\u001B[49m\u001B[43m)\u001B[49m\n",
      "\u001B[36mCell\u001B[39m\u001B[36m \u001B[39m\u001B[32mIn[4]\u001B[39m\u001B[32m, line 8\u001B[39m, in \u001B[36msend_test_email\u001B[39m\u001B[34m()\u001B[39m\n\u001B[32m      6\u001B[39m content = Content(\u001B[33m\"\u001B[39m\u001B[33mtext/plain\u001B[39m\u001B[33m\"\u001B[39m, \u001B[33m\"\u001B[39m\u001B[33mThis is an important test email\u001B[39m\u001B[33m\"\u001B[39m)\n\u001B[32m      7\u001B[39m mail = Mail(from_email, to_email, \u001B[33m\"\u001B[39m\u001B[33mTest email\u001B[39m\u001B[33m\"\u001B[39m, content).get()\n\u001B[32m----> \u001B[39m\u001B[32m8\u001B[39m response = \u001B[43msg\u001B[49m\u001B[43m.\u001B[49m\u001B[43mclient\u001B[49m\u001B[43m.\u001B[49m\u001B[43mmail\u001B[49m\u001B[43m.\u001B[49m\u001B[43msend\u001B[49m\u001B[43m.\u001B[49m\u001B[43mpost\u001B[49m\u001B[43m(\u001B[49m\u001B[43mrequest_body\u001B[49m\u001B[43m=\u001B[49m\u001B[43mmail\u001B[49m\u001B[43m)\u001B[49m\n\u001B[32m      9\u001B[39m \u001B[38;5;28mprint\u001B[39m(response.status_code)\n",
      "\u001B[36mFile \u001B[39m\u001B[32m~/Desktop/agents/venv/lib/python3.12/site-packages/python_http_client/client.py:277\u001B[39m, in \u001B[36mClient.__getattr__.<locals>.http_request\u001B[39m\u001B[34m(request_body, query_params, request_headers, timeout, **_)\u001B[39m\n\u001B[32m    271\u001B[39m     _logger.debug(\u001B[33m'\u001B[39m\u001B[33mPAYLOAD: \u001B[39m\u001B[38;5;132;01m{data}\u001B[39;00m\u001B[33m'\u001B[39m.format(\n\u001B[32m    272\u001B[39m         data=request.data))\n\u001B[32m    273\u001B[39m _logger.debug(\u001B[33m'\u001B[39m\u001B[33mHEADERS: \u001B[39m\u001B[38;5;132;01m{headers}\u001B[39;00m\u001B[33m'\u001B[39m.format(\n\u001B[32m    274\u001B[39m     headers=request.headers))\n\u001B[32m    276\u001B[39m response = Response(\n\u001B[32m--> \u001B[39m\u001B[32m277\u001B[39m     \u001B[38;5;28;43mself\u001B[39;49m\u001B[43m.\u001B[49m\u001B[43m_make_request\u001B[49m\u001B[43m(\u001B[49m\u001B[43mopener\u001B[49m\u001B[43m,\u001B[49m\u001B[43m \u001B[49m\u001B[43mrequest\u001B[49m\u001B[43m,\u001B[49m\u001B[43m \u001B[49m\u001B[43mtimeout\u001B[49m\u001B[43m=\u001B[49m\u001B[43mtimeout\u001B[49m\u001B[43m)\u001B[49m\n\u001B[32m    278\u001B[39m )\n\u001B[32m    280\u001B[39m _logger.debug(\u001B[33m'\u001B[39m\u001B[38;5;132;01m{method}\u001B[39;00m\u001B[33m Response: \u001B[39m\u001B[38;5;132;01m{status}\u001B[39;00m\u001B[33m \u001B[39m\u001B[38;5;132;01m{body}\u001B[39;00m\u001B[33m'\u001B[39m.format(\n\u001B[32m    281\u001B[39m     method=method,\n\u001B[32m    282\u001B[39m     status=response.status_code,\n\u001B[32m    283\u001B[39m     body=response.body))\n\u001B[32m    285\u001B[39m \u001B[38;5;28;01mreturn\u001B[39;00m response\n",
      "\u001B[36mFile \u001B[39m\u001B[32m~/Desktop/agents/venv/lib/python3.12/site-packages/python_http_client/client.py:184\u001B[39m, in \u001B[36mClient._make_request\u001B[39m\u001B[34m(self, opener, request, timeout)\u001B[39m\n\u001B[32m    179\u001B[39m exc.__cause__ = \u001B[38;5;28;01mNone\u001B[39;00m\n\u001B[32m    180\u001B[39m _logger.debug(\u001B[33m'\u001B[39m\u001B[38;5;132;01m{method}\u001B[39;00m\u001B[33m Response: \u001B[39m\u001B[38;5;132;01m{status}\u001B[39;00m\u001B[33m \u001B[39m\u001B[38;5;132;01m{body}\u001B[39;00m\u001B[33m'\u001B[39m.format(\n\u001B[32m    181\u001B[39m     method=request.get_method(),\n\u001B[32m    182\u001B[39m     status=exc.status_code,\n\u001B[32m    183\u001B[39m     body=exc.body))\n\u001B[32m--> \u001B[39m\u001B[32m184\u001B[39m \u001B[38;5;28;01mraise\u001B[39;00m exc\n",
      "\u001B[31mUnauthorizedError\u001B[39m: HTTP Error 401: Unauthorized"
     ]
    }
   ],
   "execution_count": 4
  },
  {
   "cell_type": "markdown",
   "metadata": {},
   "source": [
    "### Did you receive the test email\n",
    "\n",
    "If you get a 202, then you're good to go!\n",
    "\n",
    "#### Certificate error\n",
    "\n",
    "If you get an error SSL: CERTIFICATE_VERIFY_FAILED then students Chris S and Oleksandr K have suggestions:  \n",
    "First run this: `!uv pip install --upgrade certifi`  \n",
    "Next, run this:\n",
    "```python\n",
    "import certifi\n",
    "import os\n",
    "os.environ['SSL_CERT_FILE'] = certifi.where()\n",
    "```\n",
    "\n",
    "#### Other errors or no email\n",
    "\n",
    "If there are other problems, you'll need to check your API key and your verified sender email address in the SendGrid dashboard\n",
    "\n",
    "Or use the alternative implementation using \"Resend Email\" in community_contributions/2_lab2_with_resend_email\n",
    "\n",
    "(Or - you could always replace the email sending code below with a Pushover call, or something to simply write to a flat file)"
   ]
  },
  {
   "cell_type": "markdown",
   "metadata": {},
   "source": [
    "## Step 1: Agent workflow"
   ]
  },
  {
   "cell_type": "code",
   "metadata": {
    "ExecuteTime": {
     "end_time": "2025-08-31T23:43:03.565771Z",
     "start_time": "2025-08-31T23:43:03.556478Z"
    }
   },
   "source": [
    "instructions1 = \"You are a sales agent working for ComplAI, \\\n",
    "a company that provides a SaaS tool for ensuring SOC2 compliance and preparing for audits, powered by AI. \\\n",
    "You write professional, serious cold emails.\"\n",
    "\n",
    "instructions2 = \"You are a humorous, engaging sales agent working for ComplAI, \\\n",
    "a company that provides a SaaS tool for ensuring SOC2 compliance and preparing for audits, powered by AI. \\\n",
    "You write witty, engaging cold emails that are likely to get a response.\"\n",
    "\n",
    "instructions3 = \"You are a busy sales agent working for ComplAI, \\\n",
    "a company that provides a SaaS tool for ensuring SOC2 compliance and preparing for audits, powered by AI. \\\n",
    "You write concise, to the point cold emails.\""
   ],
   "outputs": [],
   "execution_count": 5
  },
  {
   "cell_type": "code",
   "metadata": {
    "ExecuteTime": {
     "end_time": "2025-08-31T23:43:04.903056Z",
     "start_time": "2025-08-31T23:43:04.897301Z"
    }
   },
   "source": [
    "sales_agent1 = Agent(\n",
    "        name=\"Professional Sales Agent\",\n",
    "        instructions=instructions1,\n",
    "        model=\"gpt-4o-mini\"\n",
    ")\n",
    "\n",
    "sales_agent2 = Agent(\n",
    "        name=\"Engaging Sales Agent\",\n",
    "        instructions=instructions2,\n",
    "        model=\"gpt-4o-mini\"\n",
    ")\n",
    "\n",
    "sales_agent3 = Agent(\n",
    "        name=\"Busy Sales Agent\",\n",
    "        instructions=instructions3,\n",
    "        model=\"gpt-4o-mini\"\n",
    ")"
   ],
   "outputs": [],
   "execution_count": 6
  },
  {
   "cell_type": "code",
   "metadata": {
    "ExecuteTime": {
     "end_time": "2025-08-31T23:43:10.787386Z",
     "start_time": "2025-08-31T23:43:06.143070Z"
    }
   },
   "source": [
    "# Runner.run_streamed 会启动一个 异步生成任务\n",
    "result = Runner.run_streamed(sales_agent1, input=\"Write a cold sales email\")\n",
    "# stream_events() 是一个异步生成器（async generator），会产生 事件对象（event）\n",
    "async for event in result.stream_events():\n",
    "    # event.type == \"raw_response_event\"：表示这是 Agent 的原始文本输出事件\n",
    "    # ResponseTextDeltaEvent：表示 增量文本变化，也就是这次事件里生成的新文本片段（delta）\n",
    "    if event.type == \"raw_response_event\" and isinstance(event.data, ResponseTextDeltaEvent):\n",
    "        # event.data.delta 就是这一小段新生成的文本\n",
    "        # end=\"\" 保证不会自动换行\n",
    "        # flush=True 保证立即打印到屏幕，而不是缓冲\n",
    "        print(event.data.delta, end=\"\", flush=True)"
   ],
   "outputs": [
    {
     "name": "stdout",
     "output_type": "stream",
     "text": [
      "Subject: Simplify Your SOC 2 Compliance with ComplAI\n",
      "\n",
      "Hi [Recipient's Name],\n",
      "\n",
      "I hope this message finds you well. I’m reaching out to introduce you to ComplAI, our cutting-edge SaaS solution designed to streamline SOC 2 compliance and audit preparation through the power of artificial intelligence.\n",
      "\n",
      "Navigating the intricacies of SOC 2 requirements can be daunting. ComplAI simplifies this process, helping you efficiently manage compliance tasks, automate documentation, and ensure continuous monitoring—all while saving you time and resources. \n",
      "\n",
      "Here are a few benefits our clients have experienced:\n",
      "\n",
      "- **Automated Workflows:** Reduce manual efforts with guided workflows that keep you on track.\n",
      "- **Real-time Insights:** Gain clarity on compliance status and readiness for audits at any moment.\n",
      "- **Expert Support:** Our team is dedicated to your success, offering insights and assistance along the way.\n",
      "\n",
      "I would love to schedule a brief call to discuss how ComplAI can specifically benefit [Recipient's Company] and ease your compliance process. Are you available for a quick chat this week?\n",
      "\n",
      "Looking forward to your response.\n",
      "\n",
      "Best regards,\n",
      "\n",
      "[Your Name]  \n",
      "[Your Job Title]  \n",
      "ComplAI  \n",
      "[Your Phone Number]  \n",
      "[Your Email Address]  \n",
      "[Website URL]  "
     ]
    }
   ],
   "execution_count": 7
  },
  {
   "cell_type": "code",
   "metadata": {
    "ExecuteTime": {
     "end_time": "2025-08-31T23:44:46.198160Z",
     "start_time": "2025-08-31T23:44:39.913943Z"
    }
   },
   "source": [
    "message = \"Write a cold sales email\"\n",
    "\n",
    "with trace(\"Parallel cold emails\"):\n",
    "    results = await asyncio.gather(\n",
    "        Runner.run(sales_agent1, message),\n",
    "        Runner.run(sales_agent2, message),\n",
    "        Runner.run(sales_agent3, message),\n",
    "    )\n",
    "\n",
    "# final_output 是 RunResult 对象的一个属性，用来表示 Agent 执行完后的完整文本输出\n",
    "outputs = [result.final_output for result in results]\n",
    "\n",
    "for output in outputs:\n",
    "    print(output + \"\\n\\n\")\n"
   ],
   "outputs": [
    {
     "name": "stdout",
     "output_type": "stream",
     "text": [
      "Subject: Simplify Your SOC 2 Compliance Journey with ComplAI\n",
      "\n",
      "Dear [Recipient's Name],\n",
      "\n",
      "I hope this message finds you well. My name is [Your Name], and I am reaching out on behalf of ComplAI, a leading provider of AI-powered tools designed to simplify and streamline SOC 2 compliance.\n",
      "\n",
      "Navigating the complexities of SOC 2 requirements can be challenging and time-consuming. Our platform offers an intuitive solution that automates compliance processes, reduces manual effort, and enhances audit preparedness. With ComplAI, you can:\n",
      "\n",
      "- **Accelerate Compliance**: Our AI technology simplifies tracking and reporting, helping you meet regulatory standards efficiently.\n",
      "- **Enhance Security**: Continuous monitoring and risk assessment capabilities ensure that your security practices stay up to date.\n",
      "- **Prepare for Audits with Confidence**: Our tool prepares you thoroughly for audits, minimizing stress and ensuring a seamless experience.\n",
      "\n",
      "I would love to schedule a brief call to discuss how ComplAI can specifically assist your organization in achieving SOC 2 compliance with ease. Please let me know a convenient time for you, or feel free to book directly through my calendar [insert calendar link].\n",
      "\n",
      "Thank you for your time, and I look forward to the opportunity to connect.\n",
      "\n",
      "Best regards,\n",
      "\n",
      "[Your Name]  \n",
      "[Your Job Title]  \n",
      "ComplAI  \n",
      "[Your Phone Number]  \n",
      "[Your Email Address]  \n",
      "[Your Company Website]  \n",
      "\n",
      "\n",
      "Subject: Let’s Make SOC 2 Compliance as Easy as Checking Your Emails! 📧\n",
      "\n",
      "Hey [Recipient's Name],\n",
      "\n",
      "Hope your day is going smoother than a cat on a Roomba! 😸\n",
      "\n",
      "I’m reaching out from ComplAI because I see you’re in the line of fire with SOC 2 compliance. It’s like that never-ending treadmill at the gym—just when you think you’re done, there’s another mile to run!\n",
      "\n",
      "But fear not! With our AI-powered tool, we’re here to turn that marathon into a brisk walk in the park. Imagine breezing through audits, sipping coffee, and having time to actually enjoy the sunset instead of stressing over compliance documents. Sounds dreamy, right?\n",
      "\n",
      "Here’s what we bring to the table:\n",
      "- **Automated Evidence Collection**: No more digging through dusty folders or sifting through emails like a digital archaeologist.\n",
      "- **Real-Time Monitoring**: Keep your compliance game strong without losing your sanity.\n",
      "- **Easy Peasy Reporting**: Because who has time for complex spreadsheets? Our tool serves you reports faster than your morning coffee kicks in!\n",
      "\n",
      "How about a quick chat next week to explore how we can help you conquer SOC 2 compliance without breaking a sweat? Maybe we can even swap some cat videos—just to keep things light! 🐾\n",
      "\n",
      "Looking forward to your reply!\n",
      "\n",
      "Best,\n",
      "[Your Name]  \n",
      "ComplAI | Making Compliance a Walk in the Park  \n",
      "[Your Contact Information]  \n",
      "\n",
      "P.S. If you’re still feeling like that treadmill, I promise to make it worth your while!\n",
      "\n",
      "\n",
      "Subject: Simplify SOC 2 Compliance with ComplAI\n",
      "\n",
      "Hi [Recipient's Name],\n",
      "\n",
      "I hope this message finds you well. I’m reaching out to introduce ComplAI—a smart SaaS tool designed to streamline SOC 2 compliance and audit preparation.\n",
      "\n",
      "With our AI-driven solution, you can save time, reduce manual effort, and ensure that you’re always audit-ready.\n",
      "\n",
      "Would you be open to a quick chat this week to see how we can make compliance easier for your team?\n",
      "\n",
      "Looking forward to your thoughts!\n",
      "\n",
      "Best,  \n",
      "[Your Name]  \n",
      "[Your Position]  \n",
      "ComplAI  \n",
      "[Your Phone Number]  \n",
      "[Your Email]  \n",
      "\n",
      "\n",
      "\n"
     ]
    }
   ],
   "execution_count": 8
  },
  {
   "cell_type": "code",
   "execution_count": null,
   "metadata": {},
   "outputs": [],
   "source": [
    "sales_picker = Agent(\n",
    "    name=\"sales_picker\",\n",
    "    instructions=\"You pick the best cold sales email from the given options. \\\n",
    "Imagine you are a customer and pick the one you are most likely to respond to. \\\n",
    "Do not give an explanation; reply with the selected email only.\",\n",
    "    model=\"gpt-4o-mini\"\n",
    ")"
   ]
  },
  {
   "cell_type": "code",
   "execution_count": null,
   "metadata": {},
   "outputs": [],
   "source": [
    "message = \"Write a cold sales email\"\n",
    "\n",
    "with trace(\"Selection from sales people\"):\n",
    "    results = await asyncio.gather(\n",
    "        Runner.run(sales_agent1, message),\n",
    "        Runner.run(sales_agent2, message),\n",
    "        Runner.run(sales_agent3, message),\n",
    "    )\n",
    "    outputs = [result.final_output for result in results]\n",
    "\n",
    "    emails = \"Cold sales emails:\\n\\n\" + \"\\n\\nEmail:\\n\\n\".join(outputs)\n",
    "\n",
    "    best = await Runner.run(sales_picker, emails)\n",
    "\n",
    "    print(f\"Best sales email:\\n{best.final_output}\")\n"
   ]
  },
  {
   "cell_type": "markdown",
   "metadata": {},
   "source": [
    "Now go and check out the trace:\n",
    "\n",
    "https://platform.openai.com/traces"
   ]
  },
  {
   "cell_type": "markdown",
   "metadata": {},
   "source": [
    "## Part 2: use of tools\n",
    "\n",
    "Now we will add a tool to the mix.\n",
    "\n",
    "Remember all that json boilerplate and the `handle_tool_calls()` function with the if logic.."
   ]
  },
  {
   "cell_type": "code",
   "execution_count": null,
   "metadata": {},
   "outputs": [],
   "source": [
    "sales_agent1 = Agent(\n",
    "        name=\"Professional Sales Agent\",\n",
    "        instructions=instructions1,\n",
    "        model=\"gpt-4o-mini\",\n",
    ")\n",
    "\n",
    "sales_agent2 = Agent(\n",
    "        name=\"Engaging Sales Agent\",\n",
    "        instructions=instructions2,\n",
    "        model=\"gpt-4o-mini\",\n",
    ")\n",
    "\n",
    "sales_agent3 = Agent(\n",
    "        name=\"Busy Sales Agent\",\n",
    "        instructions=instructions3,\n",
    "        model=\"gpt-4o-mini\",\n",
    ")"
   ]
  },
  {
   "cell_type": "code",
   "execution_count": null,
   "metadata": {},
   "outputs": [],
   "source": [
    "sales_agent1"
   ]
  },
  {
   "cell_type": "markdown",
   "metadata": {},
   "source": [
    "## Steps 2 and 3: Tools and Agent interactions\n",
    "\n",
    "Remember all that boilerplate json?\n",
    "\n",
    "Simply wrap your function with the decorator `@function_tool`"
   ]
  },
  {
   "cell_type": "code",
   "execution_count": null,
   "metadata": {},
   "outputs": [],
   "source": [
    "@function_tool\n",
    "def send_email(body: str):\n",
    "    \"\"\" Send out an email with the given body to all sales prospects \"\"\"\n",
    "    sg = sendgrid.SendGridAPIClient(api_key=os.environ.get('SENDGRID_API_KEY'))\n",
    "    from_email = Email(\"ed@edwarddonner.com\")  # Change to your verified sender\n",
    "    to_email = To(\"ed.donner@gmail.com\")  # Change to your recipient\n",
    "    content = Content(\"text/plain\", body)\n",
    "    mail = Mail(from_email, to_email, \"Sales email\", content).get()\n",
    "    sg.client.mail.send.post(request_body=mail)\n",
    "    return {\"status\": \"success\"}"
   ]
  },
  {
   "cell_type": "markdown",
   "metadata": {},
   "source": [
    "### This has automatically been converted into a tool, with the boilerplate json created"
   ]
  },
  {
   "cell_type": "code",
   "execution_count": null,
   "metadata": {},
   "outputs": [],
   "source": [
    "# Let's look at it\n",
    "send_email"
   ]
  },
  {
   "cell_type": "markdown",
   "metadata": {},
   "source": [
    "### And you can also convert an Agent into a tool"
   ]
  },
  {
   "cell_type": "code",
   "execution_count": null,
   "metadata": {},
   "outputs": [],
   "source": [
    "tool1 = sales_agent1.as_tool(tool_name=\"sales_agent1\", tool_description=\"Write a cold sales email\")\n",
    "tool1"
   ]
  },
  {
   "cell_type": "markdown",
   "metadata": {},
   "source": [
    "### So now we can gather all the tools together:\n",
    "\n",
    "A tool for each of our 3 email-writing agents\n",
    "\n",
    "And a tool for our function to send emails"
   ]
  },
  {
   "cell_type": "code",
   "execution_count": null,
   "metadata": {},
   "outputs": [],
   "source": [
    "description = \"Write a cold sales email\"\n",
    "\n",
    "tool1 = sales_agent1.as_tool(tool_name=\"sales_agent1\", tool_description=description)\n",
    "tool2 = sales_agent2.as_tool(tool_name=\"sales_agent2\", tool_description=description)\n",
    "tool3 = sales_agent3.as_tool(tool_name=\"sales_agent3\", tool_description=description)\n",
    "\n",
    "tools = [tool1, tool2, tool3, send_email]\n",
    "\n",
    "tools"
   ]
  },
  {
   "cell_type": "markdown",
   "metadata": {},
   "source": [
    "## And now it's time for our Sales Manager - our planning agent"
   ]
  },
  {
   "cell_type": "code",
   "execution_count": null,
   "metadata": {},
   "outputs": [],
   "source": [
    "# Improved instructions thanks to student Guillermo F.\n",
    "\n",
    "instructions = \"\"\"\n",
    "You are a Sales Manager at ComplAI. Your goal is to find the single best cold sales email using the sales_agent tools.\n",
    " \n",
    "Follow these steps carefully:\n",
    "1. Generate Drafts: Use all three sales_agent tools to generate three different email drafts. Do not proceed until all three drafts are ready.\n",
    " \n",
    "2. Evaluate and Select: Review the drafts and choose the single best email using your judgment of which one is most effective.\n",
    " \n",
    "3. Use the send_email tool to send the best email (and only the best email) to the user.\n",
    " \n",
    "Crucial Rules:\n",
    "- You must use the sales agent tools to generate the drafts — do not write them yourself.\n",
    "- You must send ONE email using the send_email tool — never more than one.\n",
    "\"\"\"\n",
    "\n",
    "\n",
    "sales_manager = Agent(name=\"Sales Manager\", instructions=instructions, tools=tools, model=\"gpt-4o-mini\")\n",
    "\n",
    "message = \"Send a cold sales email addressed to 'Dear CEO'\"\n",
    "\n",
    "with trace(\"Sales manager\"):\n",
    "    result = await Runner.run(sales_manager, message)"
   ]
  },
  {
   "cell_type": "markdown",
   "metadata": {},
   "source": [
    "### Handoffs represent a way an agent can delegate to an agent, passing control to it\n",
    "\n",
    "Handoffs and Agents-as-tools are similar:\n",
    "\n",
    "In both cases, an Agent can collaborate with another Agent\n",
    "\n",
    "With tools, control passes back\n",
    "\n",
    "With handoffs, control passes across\n",
    "\n",
    "你看到的这段话可以拆开解释：\n",
    "\n",
    "### 1. **Tools（Agent-as-tools）**\n",
    "\n",
    "* 一个 Agent 调用另一个 Agent 当作工具。\n",
    "* 调用时：**控制权还会回到原来的 Agent**。\n",
    "* 就像函数调用：A → 调用 B → B 返回结果 → A 继续执行。\n",
    "\n",
    "例子：\n",
    "\n",
    "* Email Manager 调用一个 `Grammar Agent` 来润色正文。\n",
    "* Grammar Agent 返回润色好的文本。\n",
    "* Email Manager 再继续执行后面的转换和发送。\n",
    "\n",
    "### 2. **Handoffs**\n",
    "\n",
    "* 一个 Agent 把任务整个交给另一个 Agent，**控制权彻底移交**。\n",
    "* 原来的 Agent 不会等结果再回来继续，而是交出去后自己就退出了。\n",
    "* 就像责任转移：A → 发现任务适合 B → 把控制权交给 B → 从此 B 负责到底。\n",
    "\n",
    "例子：\n",
    "\n",
    "* Orchestrator Agent 收到“发一封邮件”。\n",
    "* 它判断这属于 Email Manager 的专业范围。\n",
    "* 它执行 handoff，把整个任务交给 Email Manager，自己不再管。\n",
    "* Email Manager 接管后，用自己的工具链完成“写标题 → 转 HTML → 发送”。\n",
    "\n",
    "### 3. **那句话里的核心对比**\n",
    "\n",
    "* **With tools, control passes back**：调用完工具，控制权回到调用方。\n",
    "* **With handoffs, control passes across**：交给另一个 Agent，控制权完全转移过去。\n",
    "\n",
    "所以在你 `handoff_description=\"Convert an email to HTML and send it\"` 的例子里，这段描述就是 **告诉 Orchestrator 或别的 Agent：如果任务和这个描述匹配，你可以把控制权整个交给我，不用再接回去**。\n",
    "\n",
    "要不要我给你写一个伪代码对比：\n",
    "\n",
    "* Tool 调用流程\n",
    "* Handoff 转移流程\n",
    "  这样你可以一眼看到控制权差别？\n",
    "\n",
    "\n"
   ]
  },
  {
   "cell_type": "code",
   "execution_count": null,
   "metadata": {},
   "outputs": [],
   "source": [
    "\n",
    "subject_instructions = \"You can write a subject for a cold sales email. \\\n",
    "You are given a message and you need to write a subject for an email that is likely to get a response.\"\n",
    "\n",
    "html_instructions = \"You can convert a text email body to an HTML email body. \\\n",
    "You are given a text email body which might have some markdown \\\n",
    "and you need to convert it to an HTML email body with simple, clear, compelling layout and design.\"\n",
    "\n",
    "subject_writer = Agent(name=\"Email subject writer\", instructions=subject_instructions, model=\"gpt-4o-mini\")\n",
    "subject_tool = subject_writer.as_tool(tool_name=\"subject_writer\", tool_description=\"Write a subject for a cold sales email\")\n",
    "\n",
    "html_converter = Agent(name=\"HTML email body converter\", instructions=html_instructions, model=\"gpt-4o-mini\")\n",
    "html_tool = html_converter.as_tool(tool_name=\"html_converter\",tool_description=\"Convert a text email body to an HTML email body\")\n"
   ]
  },
  {
   "cell_type": "code",
   "execution_count": null,
   "metadata": {},
   "outputs": [],
   "source": [
    "@function_tool\n",
    "def send_html_email(subject: str, html_body: str) -> Dict[str, str]:\n",
    "    \"\"\" Send out an email with the given subject and HTML body to all sales prospects \"\"\"\n",
    "    sg = sendgrid.SendGridAPIClient(api_key=os.environ.get('SENDGRID_API_KEY'))\n",
    "    from_email = Email(\"ed@edwarddonner.com\")  # Change to your verified sender\n",
    "    to_email = To(\"ed.donner@gmail.com\")  # Change to your recipient\n",
    "    content = Content(\"text/html\", html_body)\n",
    "    mail = Mail(from_email, to_email, subject, content).get()\n",
    "    sg.client.mail.send.post(request_body=mail)\n",
    "    return {\"status\": \"success\"}"
   ]
  },
  {
   "cell_type": "code",
   "execution_count": null,
   "metadata": {},
   "outputs": [],
   "source": [
    "tools = [subject_tool, html_tool, send_html_email]"
   ]
  },
  {
   "cell_type": "code",
   "execution_count": null,
   "metadata": {},
   "outputs": [],
   "source": [
    "tools"
   ]
  },
  {
   "cell_type": "code",
   "execution_count": null,
   "metadata": {},
   "outputs": [],
   "source": [
    "instructions =\"You are an email formatter and sender. You receive the body of an email to be sent. \\\n",
    "You first use the subject_writer tool to write a subject for the email, then use the html_converter tool to convert the body to HTML. \\\n",
    "Finally, you use the send_html_email tool to send the email with the subject and HTML body.\"\n",
    "\n",
    "\n",
    "emailer_agent = Agent(\n",
    "    name=\"Email Manager\",\n",
    "    instructions=instructions,\n",
    "    tools=tools,\n",
    "    model=\"gpt-4o-mini\",\n",
    "    handoff_description=\"Convert an email to HTML and send it\")\n"
   ]
  },
  {
   "cell_type": "markdown",
   "metadata": {},
   "source": "### Now we have 3 tools and 1 handoff"
  },
  {
   "cell_type": "code",
   "execution_count": null,
   "metadata": {},
   "outputs": [],
   "source": [
    "tools = [tool1, tool2, tool3]\n",
    "handoffs = [emailer_agent]\n",
    "print(tools)\n",
    "print(handoffs)"
   ]
  },
  {
   "cell_type": "code",
   "execution_count": null,
   "metadata": {},
   "outputs": [],
   "source": [
    "# Improved instructions thanks to student Guillermo F.\n",
    "\n",
    "sales_manager_instructions = \"\"\"\n",
    "You are a Sales Manager at ComplAI. Your goal is to find the single best cold sales email using the sales_agent tools.\n",
    " \n",
    "Follow these steps carefully:\n",
    "1. Generate Drafts: Use all three sales_agent tools to generate three different email drafts. Do not proceed until all three drafts are ready.\n",
    " \n",
    "2. Evaluate and Select: Review the drafts and choose the single best email using your judgment of which one is most effective.\n",
    "You can use the tools multiple times if you're not satisfied with the results from the first try.\n",
    " \n",
    "3. Handoff for Sending: Pass ONLY the winning email draft to the 'Email Manager' agent. The Email Manager will take care of formatting and sending.\n",
    " \n",
    "Crucial Rules:\n",
    "- You must use the sales agent tools to generate the drafts — do not write them yourself.\n",
    "- You must hand off exactly ONE email to the Email Manager — never more than one.\n",
    "\"\"\"\n",
    "\n",
    "\n",
    "sales_manager = Agent(\n",
    "    name=\"Sales Manager\",\n",
    "    instructions=sales_manager_instructions,\n",
    "    tools=tools,\n",
    "    handoffs=handoffs,\n",
    "    model=\"gpt-4o-mini\")\n",
    "\n",
    "message = \"Send out a cold sales email addressed to Dear CEO from Alice\"\n",
    "\n",
    "with trace(\"Automated SDR\"):\n",
    "    result = await Runner.run(sales_manager, message)"
   ]
  },
  {
   "cell_type": "markdown",
   "metadata": {},
   "source": [
    "## Extra note:\n",
    "\n",
    "Google has released their Agent Development Kit (ADK). It's not yet got the traction of the other frameworks on this course, but it's getting some attention. It's interesting to note that it looks quite similar to OpenAI Agents SDK. To give you a preview, here's a peak at sample code from ADK:\n",
    "\n",
    "```\n",
    "root_agent = Agent(\n",
    "    name=\"weather_time_agent\",\n",
    "    model=\"gemini-2.0-flash\",\n",
    "    description=\"Agent to answer questions about the time and weather in a city.\",\n",
    "    instruction=\"You are a helpful agent who can answer user questions about the time and weather in a city.\",\n",
    "    tools=[get_weather, get_current_time]\n",
    ")\n",
    "```\n",
    "\n",
    "Well, that looks familiar!\n",
    "\n",
    "And a student has contributed a customer care agent in community_contributions that uses ADK."
   ]
  },
  {
   "cell_type": "markdown",
   "metadata": {},
   "source": []
  }
 ],
 "metadata": {
  "kernelspec": {
   "display_name": ".venv",
   "language": "python",
   "name": "python3"
  },
  "language_info": {
   "codemirror_mode": {
    "name": "ipython",
    "version": 3
   },
   "file_extension": ".py",
   "mimetype": "text/x-python",
   "name": "python",
   "nbconvert_exporter": "python",
   "pygments_lexer": "ipython3",
   "version": "3.12.9"
  }
 },
 "nbformat": 4,
 "nbformat_minor": 2
}
